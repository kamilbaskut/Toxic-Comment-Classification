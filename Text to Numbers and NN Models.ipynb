{
 "cells": [
  {
   "cell_type": "code",
   "execution_count": 1,
   "metadata": {},
   "outputs": [
    {
     "name": "stderr",
     "output_type": "stream",
     "text": [
      "C:\\Users\\serda\\Anaconda3\\lib\\site-packages\\numpy\\_distributor_init.py:32: UserWarning: loaded more than 1 DLL from .libs:\n",
      "C:\\Users\\serda\\Anaconda3\\lib\\site-packages\\numpy\\.libs\\libopenblas.NOIJJG62EMASZI6NYURL6JBKM4EVBGM7.gfortran-win_amd64.dll\n",
      "C:\\Users\\serda\\Anaconda3\\lib\\site-packages\\numpy\\.libs\\libopenblas.QVLO2T66WEPI7JZ63PS3HMOHFEY472BC.gfortran-win_amd64.dll\n",
      "  stacklevel=1)\n"
     ]
    }
   ],
   "source": [
    "import numpy as np\n",
    "import pandas as pd\n",
    "import matplotlib.pyplot as plt"
   ]
  },
  {
   "cell_type": "markdown",
   "metadata": {},
   "source": [
    "# Read Preprocessed Data"
   ]
  },
  {
   "cell_type": "code",
   "execution_count": 2,
   "metadata": {},
   "outputs": [],
   "source": [
    "data = pd.read_csv(r'Data\\preprocessed_data.csv')"
   ]
  },
  {
   "cell_type": "code",
   "execution_count": 3,
   "metadata": {},
   "outputs": [],
   "source": [
    "x_data = data[\"text\"][pd.isna(data[\"text\"])==False]\n",
    "y_data = data[\"target\"][pd.isna(data[\"text\"])== False]"
   ]
  },
  {
   "cell_type": "code",
   "execution_count": 4,
   "metadata": {
    "scrolled": true
   },
   "outputs": [
    {
     "data": {
      "text/plain": [
       "0                           haha you guy are bunch of loser\n",
       "1                                         ur sh tty comment\n",
       "2         it ridiculous that these guy are being called ...\n",
       "3         this story get more ridiculous by the hour and...\n",
       "4         angry troll misogynist and racist oh my it doe...\n",
       "5         yet call out all muslim for the act of few wil...\n",
       "6            this bitch is nut who would read book by woman\n",
       "7         tuesday jan 13 member of this socalled militia...\n",
       "8         love that they also participate in the portlan...\n",
       "9         took this a an opportunity to check back in on...\n",
       "10        their ridiculous band photo ha me wanting to d...\n",
       "11        will whiteness history month make all white pe...\n",
       "12        anybody who can kiss that many ass that quickl...\n",
       "13        metro ha lied to u from the beginning about wh...\n",
       "14        on it face glueck claim that ag rosenblum need...\n",
       "15        um bernie supporter attack thom hartmann liar ...\n",
       "16                                          you re an idiot\n",
       "17        who care stark trek and star war fan are all d...\n",
       "18        nincompoop that a nice one m partial to silly ...\n",
       "19        sorry to have to do this but just to see if pr...\n",
       "20                              troll trolly troll what now\n",
       "21        this is test any fool know star trek is the be...\n",
       "22        testing purpose you are an idiot and can stand...\n",
       "23                        the troll is strong with this one\n",
       "24        for the purpose of testing here my contributio...\n",
       "25        people can use toothpaste if they so desire an...\n",
       "26        well shit they drafted guide we should all be ...\n",
       "27        they re not all wrong though yeah your number ...\n",
       "28        so tired of all these portlanders moving to ca...\n",
       "29        what ridiculous click bait article she ha live...\n",
       "                                ...                        \n",
       "319226    how funny this article would come from the was...\n",
       "319227    http project registerguard com apf biz u congr...\n",
       "319228    this should not come a surprise to anyone who ...\n",
       "319229    wait month or two and the trumpeter will find ...\n",
       "319230    the change to the article have been removed ag...\n",
       "319231                                  a picture of bottle\n",
       "319232    who is paying alaska car rental tax ha the sta...\n",
       "319233    duffy should be suing the left wing medium too...\n",
       "319234    read my book the railway metropolis how planne...\n",
       "319235    yet the game will persevere so what your point...\n",
       "319236    i doubt anyone sadly reach e heaven seems we w...\n",
       "319237    nailed it clem it ought to be clear that the l...\n",
       "319238    one interesting thing is that the trump suppor...\n",
       "319239    probably didn show up because there were no fr...\n",
       "319240    can we all agree that some are upset that obam...\n",
       "319241    my daughter is now attending rice in houston g...\n",
       "319242    you can even start by having your cheap califo...\n",
       "319243    disaster preparedness should be an issue at th...\n",
       "319244    excellent point the former deal with fact and ...\n",
       "319245    if you can fight and die for your country at 1...\n",
       "319246    a for the extra credit question john mccain wa...\n",
       "319247    doe anyone in ottawa ever apply their effort t...\n",
       "319248    it entered my mind every time m at the corner ...\n",
       "319249                                  your edits to sport\n",
       "319250    hooey they are lying about the 35 price tag an...\n",
       "319251    more evidence that trump is in his heart of he...\n",
       "319252    i definitely did not like him in life or in th...\n",
       "319253    yes they did oppose everything he did because ...\n",
       "319254    barney clyde cartoon strip below the letter to...\n",
       "319255    but what about her email that why they voted f...\n",
       "Name: text, Length: 319233, dtype: object"
      ]
     },
     "execution_count": 4,
     "metadata": {},
     "output_type": "execute_result"
    }
   ],
   "source": [
    "x_data"
   ]
  },
  {
   "cell_type": "markdown",
   "metadata": {},
   "source": [
    "# Bag of Word Model"
   ]
  },
  {
   "cell_type": "code",
   "execution_count": 5,
   "metadata": {},
   "outputs": [],
   "source": [
    "from sklearn.feature_extraction.text import CountVectorizer\n",
    "from nltk.corpus import stopwords"
   ]
  },
  {
   "cell_type": "code",
   "execution_count": 6,
   "metadata": {},
   "outputs": [],
   "source": [
    "vectorizer = CountVectorizer(max_features=1500, min_df=5, max_df=0.95, stop_words=stopwords.words('english'))"
   ]
  },
  {
   "cell_type": "code",
   "execution_count": 7,
   "metadata": {},
   "outputs": [],
   "source": [
    "X = vectorizer.fit_transform(x_data).toarray() "
   ]
  },
  {
   "cell_type": "code",
   "execution_count": 8,
   "metadata": {},
   "outputs": [
    {
     "data": {
      "text/plain": [
       "array([[0, 0, 0, ..., 0, 0, 0],\n",
       "       [0, 0, 0, ..., 0, 0, 0],\n",
       "       [0, 0, 0, ..., 0, 0, 0],\n",
       "       ...,\n",
       "       [0, 0, 0, ..., 0, 0, 0],\n",
       "       [0, 0, 0, ..., 0, 0, 0],\n",
       "       [0, 0, 0, ..., 0, 0, 0]], dtype=int64)"
      ]
     },
     "execution_count": 8,
     "metadata": {},
     "output_type": "execute_result"
    }
   ],
   "source": [
    "X"
   ]
  },
  {
   "cell_type": "markdown",
   "metadata": {},
   "source": [
    "# Train Test Split"
   ]
  },
  {
   "cell_type": "code",
   "execution_count": 9,
   "metadata": {},
   "outputs": [],
   "source": [
    "from sklearn.model_selection import train_test_split"
   ]
  },
  {
   "cell_type": "code",
   "execution_count": 10,
   "metadata": {},
   "outputs": [],
   "source": [
    "x_train, x_test, y_train, y_test = train_test_split(X, y_data, test_size=0.2, random_state=32)"
   ]
  },
  {
   "cell_type": "code",
   "execution_count": 11,
   "metadata": {},
   "outputs": [
    {
     "data": {
      "text/plain": [
       "(array([0, 1], dtype=int64), array([31649, 32198], dtype=int64))"
      ]
     },
     "execution_count": 11,
     "metadata": {},
     "output_type": "execute_result"
    }
   ],
   "source": [
    "np.unique(y_test, return_counts=True)"
   ]
  },
  {
   "cell_type": "markdown",
   "metadata": {},
   "source": [
    "# Shuffle"
   ]
  },
  {
   "cell_type": "code",
   "execution_count": 12,
   "metadata": {},
   "outputs": [],
   "source": [
    "from sklearn.utils import shuffle\n",
    "x_train, y_train = shuffle(x_train, y_train, random_state = 1)"
   ]
  },
  {
   "cell_type": "markdown",
   "metadata": {},
   "source": [
    "# Neural Network"
   ]
  },
  {
   "cell_type": "code",
   "execution_count": 13,
   "metadata": {},
   "outputs": [
    {
     "name": "stderr",
     "output_type": "stream",
     "text": [
      "Using TensorFlow backend.\n"
     ]
    }
   ],
   "source": [
    "from keras.layers import Dense,Dropout\n",
    "from keras.models import Sequential"
   ]
  },
  {
   "cell_type": "markdown",
   "metadata": {},
   "source": [
    "## Model -1-"
   ]
  },
  {
   "cell_type": "code",
   "execution_count": 20,
   "metadata": {},
   "outputs": [],
   "source": [
    "model = Sequential()\n",
    "\n",
    "\n",
    "model.add(Dense(1024,input_dim=(1500) ,activation='relu'))\n",
    "model.add(Dense(512, activation='relu'))\n",
    "model.add(Dense(512, activation='relu'))\n",
    "model.add(Dense(128, activation='relu'))\n",
    "model.add(Dense(64, activation='relu'))\n",
    "model.add(Dense(1, activation='sigmoid'))\n",
    "\n",
    "model.compile(loss='binary_crossentropy', optimizer='adam', metrics=['accuracy'])"
   ]
  },
  {
   "cell_type": "code",
   "execution_count": 21,
   "metadata": {},
   "outputs": [
    {
     "name": "stdout",
     "output_type": "stream",
     "text": [
      "Model: \"sequential_2\"\n",
      "_________________________________________________________________\n",
      "Layer (type)                 Output Shape              Param #   \n",
      "=================================================================\n",
      "dense_7 (Dense)              (None, 1024)              1537024   \n",
      "_________________________________________________________________\n",
      "dense_8 (Dense)              (None, 512)               524800    \n",
      "_________________________________________________________________\n",
      "dense_9 (Dense)              (None, 512)               262656    \n",
      "_________________________________________________________________\n",
      "dense_10 (Dense)             (None, 128)               65664     \n",
      "_________________________________________________________________\n",
      "dense_11 (Dense)             (None, 64)                8256      \n",
      "_________________________________________________________________\n",
      "dense_12 (Dense)             (None, 1)                 65        \n",
      "=================================================================\n",
      "Total params: 2,398,465\n",
      "Trainable params: 2,398,465\n",
      "Non-trainable params: 0\n",
      "_________________________________________________________________\n"
     ]
    }
   ],
   "source": [
    "model.summary()"
   ]
  },
  {
   "cell_type": "code",
   "execution_count": 22,
   "metadata": {
    "scrolled": false
   },
   "outputs": [
    {
     "name": "stdout",
     "output_type": "stream",
     "text": [
      "Train on 229847 samples, validate on 25539 samples\n",
      "Epoch 1/10\n",
      "229847/229847 [==============================] - 4s 19us/step - loss: 0.4240 - accuracy: 0.8107 - val_loss: 0.3886 - val_accuracy: 0.8310\n",
      "Epoch 2/10\n",
      "229847/229847 [==============================] - 4s 18us/step - loss: 0.3521 - accuracy: 0.8477 - val_loss: 0.3934 - val_accuracy: 0.8288\n",
      "Epoch 3/10\n",
      "229847/229847 [==============================] - 4s 18us/step - loss: 0.2733 - accuracy: 0.8835 - val_loss: 0.4565 - val_accuracy: 0.8180\n",
      "Epoch 4/10\n",
      "229847/229847 [==============================] - 4s 18us/step - loss: 0.1659 - accuracy: 0.9306 - val_loss: 0.6208 - val_accuracy: 0.8030\n",
      "Epoch 5/10\n",
      "229847/229847 [==============================] - 4s 18us/step - loss: 0.1074 - accuracy: 0.9555 - val_loss: 0.7553 - val_accuracy: 0.8085\n",
      "Epoch 6/10\n",
      "229847/229847 [==============================] - 4s 18us/step - loss: 0.0781 - accuracy: 0.9678 - val_loss: 0.9307 - val_accuracy: 0.8007\n",
      "Epoch 7/10\n",
      "229847/229847 [==============================] - 4s 18us/step - loss: 0.0606 - accuracy: 0.9740 - val_loss: 1.0529 - val_accuracy: 0.8019\n",
      "Epoch 8/10\n",
      "229847/229847 [==============================] - 4s 18us/step - loss: 0.0547 - accuracy: 0.9766 - val_loss: 1.1195 - val_accuracy: 0.7990\n",
      "Epoch 9/10\n",
      "229847/229847 [==============================] - 4s 18us/step - loss: 0.0493 - accuracy: 0.9785 - val_loss: 1.0663 - val_accuracy: 0.8030\n",
      "Epoch 10/10\n",
      "229847/229847 [==============================] - 4s 18us/step - loss: 0.0446 - accuracy: 0.9801 - val_loss: 1.1829 - val_accuracy: 0.7984\n"
     ]
    }
   ],
   "source": [
    "hist = model.fit(x_train, y_train, batch_size=512, epochs=10, validation_split=0.1)"
   ]
  },
  {
   "cell_type": "code",
   "execution_count": 23,
   "metadata": {},
   "outputs": [
    {
     "name": "stdout",
     "output_type": "stream",
     "text": [
      "63847/63847 [==============================] - 2s 33us/step\n"
     ]
    },
    {
     "data": {
      "text/plain": [
       "0.8013845682144165"
      ]
     },
     "execution_count": 23,
     "metadata": {},
     "output_type": "execute_result"
    }
   ],
   "source": [
    "model.evaluate(x_test, y_test)[1]"
   ]
  },
  {
   "cell_type": "code",
   "execution_count": 27,
   "metadata": {},
   "outputs": [
    {
     "data": {
      "text/plain": [
       "<matplotlib.legend.Legend at 0x1cc1ca3a860>"
      ]
     },
     "execution_count": 27,
     "metadata": {},
     "output_type": "execute_result"
    },
    {
     "data": {
      "image/png": "[encoded data removed]",
      "text/plain": [
       "<Figure size 432x288 with 1 Axes>"
      ]
     },
     "metadata": {
      "needs_background": "light"
     },
     "output_type": "display_data"
    }
   ],
   "source": [
    "plt.xlabel(\"Epoch\")\n",
    "plt.ylabel(\"Loss\")\n",
    "plt.plot(hist.history[\"loss\"], label='Train Loss')\n",
    "plt.plot(hist.history[\"val_loss\"], label='Validation Loss')\n",
    "plt.legend()"
   ]
  },
  {
   "cell_type": "code",
   "execution_count": 28,
   "metadata": {},
   "outputs": [
    {
     "data": {
      "text/plain": [
       "<matplotlib.legend.Legend at 0x1cc1c9e1f28>"
      ]
     },
     "execution_count": 28,
     "metadata": {},
     "output_type": "execute_result"
    },
    {
     "data": {
      "image/png": "[encoded data removed]",
      "text/plain": [
       "<Figure size 432x288 with 1 Axes>"
      ]
     },
     "metadata": {
      "needs_background": "light"
     },
     "output_type": "display_data"
    }
   ],
   "source": [
    "plt.xlabel(\"Epoch\")\n",
    "plt.ylabel(\"Accuracy\")\n",
    "plt.plot(hist.history[\"accuracy\"], label='Train Accuracy')\n",
    "plt.plot(hist.history[\"val_accuracy\"], label='Validation Accuracy')\n",
    "plt.legend()"
   ]
  },
  {
   "cell_type": "markdown",
   "metadata": {},
   "source": [
    "## Model -2-"
   ]
  },
  {
   "cell_type": "code",
   "execution_count": 29,
   "metadata": {},
   "outputs": [],
   "source": [
    "model = Sequential()\n",
    "\n",
    "\n",
    "model.add(Dense(1024,input_dim=1500 ,activation='relu'))\n",
    "model.add(Dense(1024, activation='relu'))\n",
    "model.add(Dense(512, activation='relu'))\n",
    "model.add(Dense(512, activation='relu'))\n",
    "model.add(Dense(128, activation='relu'))\n",
    "model.add(Dense(64, activation='relu'))\n",
    "model.add(Dense(1, activation='sigmoid'))\n",
    "\n",
    "model.compile(loss='binary_crossentropy', optimizer='adam', metrics=['accuracy'])"
   ]
  },
  {
   "cell_type": "code",
   "execution_count": 30,
   "metadata": {},
   "outputs": [
    {
     "name": "stdout",
     "output_type": "stream",
     "text": [
      "Model: \"sequential_3\"\n",
      "_________________________________________________________________\n",
      "Layer (type)                 Output Shape              Param #   \n",
      "=================================================================\n",
      "dense_13 (Dense)             (None, 1024)              1537024   \n",
      "_________________________________________________________________\n",
      "dense_14 (Dense)             (None, 1024)              1049600   \n",
      "_________________________________________________________________\n",
      "dense_15 (Dense)             (None, 512)               524800    \n",
      "_________________________________________________________________\n",
      "dense_16 (Dense)             (None, 512)               262656    \n",
      "_________________________________________________________________\n",
      "dense_17 (Dense)             (None, 128)               65664     \n",
      "_________________________________________________________________\n",
      "dense_18 (Dense)             (None, 64)                8256      \n",
      "_________________________________________________________________\n",
      "dense_19 (Dense)             (None, 1)                 65        \n",
      "=================================================================\n",
      "Total params: 3,448,065\n",
      "Trainable params: 3,448,065\n",
      "Non-trainable params: 0\n",
      "_________________________________________________________________\n"
     ]
    }
   ],
   "source": [
    "model.summary()"
   ]
  },
  {
   "cell_type": "code",
   "execution_count": 31,
   "metadata": {},
   "outputs": [
    {
     "name": "stdout",
     "output_type": "stream",
     "text": [
      "Train on 229847 samples, validate on 25539 samples\n",
      "Epoch 1/10\n",
      "229847/229847 [==============================] - 5s 21us/step - loss: 0.4253 - accuracy: 0.8091 - val_loss: 0.3968 - val_accuracy: 0.8260\n",
      "Epoch 2/10\n",
      "229847/229847 [==============================] - 5s 20us/step - loss: 0.3531 - accuracy: 0.8468 - val_loss: 0.3959 - val_accuracy: 0.8297\n",
      "Epoch 3/10\n",
      "229847/229847 [==============================] - 5s 20us/step - loss: 0.2753 - accuracy: 0.8809 - val_loss: 0.4565 - val_accuracy: 0.8200\n",
      "Epoch 4/10\n",
      "229847/229847 [==============================] - 5s 20us/step - loss: 0.1655 - accuracy: 0.9298 - val_loss: 0.6304 - val_accuracy: 0.8068\n",
      "Epoch 5/10\n",
      "229847/229847 [==============================] - 5s 20us/step - loss: 0.1060 - accuracy: 0.9562 - val_loss: 0.7681 - val_accuracy: 0.8098\n",
      "Epoch 6/10\n",
      "229847/229847 [==============================] - 5s 20us/step - loss: 0.0741 - accuracy: 0.9683 - val_loss: 0.9296 - val_accuracy: 0.7990\n",
      "Epoch 7/10\n",
      "229847/229847 [==============================] - 5s 20us/step - loss: 0.0647 - accuracy: 0.9735 - val_loss: 1.0778 - val_accuracy: 0.7995\n",
      "Epoch 8/10\n",
      "229847/229847 [==============================] - 5s 20us/step - loss: 0.0531 - accuracy: 0.9773 - val_loss: 1.0834 - val_accuracy: 0.8023\n",
      "Epoch 9/10\n",
      "229847/229847 [==============================] - 5s 20us/step - loss: 0.0478 - accuracy: 0.9792 - val_loss: 1.0672 - val_accuracy: 0.7982\n",
      "Epoch 10/10\n",
      "229847/229847 [==============================] - 5s 20us/step - loss: 0.0434 - accuracy: 0.9808 - val_loss: 1.2949 - val_accuracy: 0.8012\n"
     ]
    }
   ],
   "source": [
    "hist = model.fit(x_train, y_train, batch_size=512, epochs=10, validation_split=0.1)"
   ]
  },
  {
   "cell_type": "code",
   "execution_count": 32,
   "metadata": {},
   "outputs": [
    {
     "name": "stdout",
     "output_type": "stream",
     "text": [
      "63847/63847 [==============================] - 3s 40us/step\n"
     ]
    },
    {
     "data": {
      "text/plain": [
       "0.8000062704086304"
      ]
     },
     "execution_count": 32,
     "metadata": {},
     "output_type": "execute_result"
    }
   ],
   "source": [
    "model.evaluate(x_test, y_test)[1]"
   ]
  },
  {
   "cell_type": "code",
   "execution_count": 33,
   "metadata": {},
   "outputs": [
    {
     "data": {
      "text/plain": [
       "<matplotlib.legend.Legend at 0x1cc1cb02cf8>"
      ]
     },
     "execution_count": 33,
     "metadata": {},
     "output_type": "execute_result"
    },
    {
     "data": {
      "image/png": "[encoded data removed]",
      "text/plain": [
       "<Figure size 432x288 with 1 Axes>"
      ]
     },
     "metadata": {
      "needs_background": "light"
     },
     "output_type": "display_data"
    }
   ],
   "source": [
    "plt.xlabel(\"Epoch\")\n",
    "plt.ylabel(\"Loss\")\n",
    "plt.plot(hist.history[\"loss\"], label='Train Loss')\n",
    "plt.plot(hist.history[\"val_loss\"], label='Validation Loss')\n",
    "plt.legend()"
   ]
  },
  {
   "cell_type": "code",
   "execution_count": 34,
   "metadata": {},
   "outputs": [
    {
     "data": {
      "text/plain": [
       "<matplotlib.legend.Legend at 0x1cc1cbbf780>"
      ]
     },
     "execution_count": 34,
     "metadata": {},
     "output_type": "execute_result"
    },
    {
     "data": {
      "image/png": "[encoded data removed]",
      "text/plain": [
       "<Figure size 432x288 with 1 Axes>"
      ]
     },
     "metadata": {
      "needs_background": "light"
     },
     "output_type": "display_data"
    }
   ],
   "source": [
    "plt.xlabel(\"Epoch\")\n",
    "plt.ylabel(\"Accuracy\")\n",
    "plt.plot(hist.history[\"accuracy\"], label='Train Accuracy')\n",
    "plt.plot(hist.history[\"val_accuracy\"], label='Validation Accuracy')\n",
    "plt.legend()"
   ]
  },
  {
   "cell_type": "markdown",
   "metadata": {},
   "source": [
    "## Model -3-"
   ]
  },
  {
   "cell_type": "code",
   "execution_count": 41,
   "metadata": {},
   "outputs": [],
   "source": [
    "model = Sequential()\n",
    "\n",
    "\n",
    "model.add(Dense(1024,input_dim=1500 ,activation='relu'))\n",
    "model.add(Dropout(0.5))\n",
    "model.add(Dense(1024, activation='relu'))\n",
    "model.add(Dense(512, activation='relu'))\n",
    "model.add(Dense(512, activation='relu'))\n",
    "model.add(Dense(128, activation='relu'))\n",
    "model.add(Dense(64, activation='relu'))\n",
    "model.add(Dense(1, activation='sigmoid'))\n",
    "\n",
    "model.compile(loss='binary_crossentropy', optimizer='adam', metrics=['accuracy'])"
   ]
  },
  {
   "cell_type": "code",
   "execution_count": 42,
   "metadata": {},
   "outputs": [
    {
     "name": "stdout",
     "output_type": "stream",
     "text": [
      "Model: \"sequential_5\"\n",
      "_________________________________________________________________\n",
      "Layer (type)                 Output Shape              Param #   \n",
      "=================================================================\n",
      "dense_27 (Dense)             (None, 1024)              1537024   \n",
      "_________________________________________________________________\n",
      "dropout_1 (Dropout)          (None, 1024)              0         \n",
      "_________________________________________________________________\n",
      "dense_28 (Dense)             (None, 1024)              1049600   \n",
      "_________________________________________________________________\n",
      "dense_29 (Dense)             (None, 512)               524800    \n",
      "_________________________________________________________________\n",
      "dense_30 (Dense)             (None, 512)               262656    \n",
      "_________________________________________________________________\n",
      "dense_31 (Dense)             (None, 128)               65664     \n",
      "_________________________________________________________________\n",
      "dense_32 (Dense)             (None, 64)                8256      \n",
      "_________________________________________________________________\n",
      "dense_33 (Dense)             (None, 1)                 65        \n",
      "=================================================================\n",
      "Total params: 3,448,065\n",
      "Trainable params: 3,448,065\n",
      "Non-trainable params: 0\n",
      "_________________________________________________________________\n"
     ]
    }
   ],
   "source": [
    "model.summary()"
   ]
  },
  {
   "cell_type": "code",
   "execution_count": 43,
   "metadata": {},
   "outputs": [
    {
     "name": "stdout",
     "output_type": "stream",
     "text": [
      "Train on 229847 samples, validate on 25539 samples\n",
      "Epoch 1/10\n",
      "229847/229847 [==============================] - 5s 21us/step - loss: 0.4337 - accuracy: 0.8035 - val_loss: 0.3941 - val_accuracy: 0.8288\n",
      "Epoch 2/10\n",
      "229847/229847 [==============================] - 5s 21us/step - loss: 0.3739 - accuracy: 0.8374 - val_loss: 0.3843 - val_accuracy: 0.8318\n",
      "Epoch 3/10\n",
      "229847/229847 [==============================] - 5s 21us/step - loss: 0.3407 - accuracy: 0.8518 - val_loss: 0.3926 - val_accuracy: 0.8315\n",
      "Epoch 4/10\n",
      "229847/229847 [==============================] - 5s 22us/step - loss: 0.3002 - accuracy: 0.8693 - val_loss: 0.4074 - val_accuracy: 0.8283\n",
      "Epoch 5/10\n",
      "229847/229847 [==============================] - 5s 20us/step - loss: 0.2567 - accuracy: 0.8894 - val_loss: 0.4428 - val_accuracy: 0.8274\n",
      "Epoch 6/10\n",
      "229847/229847 [==============================] - 5s 21us/step - loss: 0.2216 - accuracy: 0.9055 - val_loss: 0.4428 - val_accuracy: 0.8252\n",
      "Epoch 7/10\n",
      "229847/229847 [==============================] - 5s 20us/step - loss: 0.1933 - accuracy: 0.9188 - val_loss: 0.5707 - val_accuracy: 0.8208\n",
      "Epoch 8/10\n",
      "229847/229847 [==============================] - 5s 21us/step - loss: 0.1701 - accuracy: 0.9290 - val_loss: 0.5705 - val_accuracy: 0.8215\n",
      "Epoch 9/10\n",
      "229847/229847 [==============================] - 5s 21us/step - loss: 0.1538 - accuracy: 0.9358 - val_loss: 0.5881 - val_accuracy: 0.8164\n",
      "Epoch 10/10\n",
      "229847/229847 [==============================] - 5s 20us/step - loss: 0.1402 - accuracy: 0.9421 - val_loss: 0.6079 - val_accuracy: 0.8176\n"
     ]
    }
   ],
   "source": [
    "hist = model.fit(x_train, y_train, batch_size=512, epochs=10, validation_split=0.1)"
   ]
  },
  {
   "cell_type": "code",
   "execution_count": 44,
   "metadata": {},
   "outputs": [
    {
     "name": "stdout",
     "output_type": "stream",
     "text": [
      "63847/63847 [==============================] - 3s 40us/step\n"
     ]
    },
    {
     "data": {
      "text/plain": [
       "0.8182530403137207"
      ]
     },
     "execution_count": 44,
     "metadata": {},
     "output_type": "execute_result"
    }
   ],
   "source": [
    "model.evaluate(x_test, y_test)[1]"
   ]
  },
  {
   "cell_type": "code",
   "execution_count": 45,
   "metadata": {},
   "outputs": [
    {
     "data": {
      "text/plain": [
       "<matplotlib.legend.Legend at 0x1cc283ecb38>"
      ]
     },
     "execution_count": 45,
     "metadata": {},
     "output_type": "execute_result"
    },
    {
     "data": {
      "image/png": "[encoded data removed]",
      "text/plain": [
       "<Figure size 432x288 with 1 Axes>"
      ]
     },
     "metadata": {
      "needs_background": "light"
     },
     "output_type": "display_data"
    }
   ],
   "source": [
    "plt.xlabel(\"Epoch\")\n",
    "plt.ylabel(\"Loss\")\n",
    "plt.plot(hist.history[\"loss\"], label='Train Loss')\n",
    "plt.plot(hist.history[\"val_loss\"], label='Validation Loss')\n",
    "plt.legend()"
   ]
  },
  {
   "cell_type": "code",
   "execution_count": 46,
   "metadata": {},
   "outputs": [
    {
     "data": {
      "text/plain": [
       "<matplotlib.legend.Legend at 0x1cc288ac400>"
      ]
     },
     "execution_count": 46,
     "metadata": {},
     "output_type": "execute_result"
    },
    {
     "data": {
      "image/png": "[encoded data removed]",
      "text/plain": [
       "<Figure size 432x288 with 1 Axes>"
      ]
     },
     "metadata": {
      "needs_background": "light"
     },
     "output_type": "display_data"
    }
   ],
   "source": [
    "plt.xlabel(\"Epoch\")\n",
    "plt.ylabel(\"Accuracy\")\n",
    "plt.plot(hist.history[\"accuracy\"], label='Train Accuracy')\n",
    "plt.plot(hist.history[\"val_accuracy\"], label='Validation Accuracy')\n",
    "plt.legend()"
   ]
  },
  {
   "cell_type": "markdown",
   "metadata": {},
   "source": [
    "## Model -4-"
   ]
  },
  {
   "cell_type": "code",
   "execution_count": 47,
   "metadata": {},
   "outputs": [],
   "source": [
    "model = Sequential()\n",
    "\n",
    "\n",
    "model.add(Dense(1024,input_dim=1500 ,activation='relu'))\n",
    "model.add(Dropout(0.5))\n",
    "model.add(Dense(1024, activation='relu'))\n",
    "model.add(Dense(512, activation='relu'))\n",
    "model.add(Dense(512, activation='relu'))\n",
    "model.add(Dropout(0.5))\n",
    "model.add(Dense(128, activation='relu'))\n",
    "model.add(Dense(64, activation='relu'))\n",
    "model.add(Dense(1, activation='sigmoid'))\n",
    "\n",
    "model.compile(loss='binary_crossentropy', optimizer='adam', metrics=['accuracy'])"
   ]
  },
  {
   "cell_type": "code",
   "execution_count": 48,
   "metadata": {},
   "outputs": [
    {
     "name": "stdout",
     "output_type": "stream",
     "text": [
      "Model: \"sequential_6\"\n",
      "_________________________________________________________________\n",
      "Layer (type)                 Output Shape              Param #   \n",
      "=================================================================\n",
      "dense_34 (Dense)             (None, 1024)              1537024   \n",
      "_________________________________________________________________\n",
      "dropout_2 (Dropout)          (None, 1024)              0         \n",
      "_________________________________________________________________\n",
      "dense_35 (Dense)             (None, 1024)              1049600   \n",
      "_________________________________________________________________\n",
      "dense_36 (Dense)             (None, 512)               524800    \n",
      "_________________________________________________________________\n",
      "dense_37 (Dense)             (None, 512)               262656    \n",
      "_________________________________________________________________\n",
      "dropout_3 (Dropout)          (None, 512)               0         \n",
      "_________________________________________________________________\n",
      "dense_38 (Dense)             (None, 128)               65664     \n",
      "_________________________________________________________________\n",
      "dense_39 (Dense)             (None, 64)                8256      \n",
      "_________________________________________________________________\n",
      "dense_40 (Dense)             (None, 1)                 65        \n",
      "=================================================================\n",
      "Total params: 3,448,065\n",
      "Trainable params: 3,448,065\n",
      "Non-trainable params: 0\n",
      "_________________________________________________________________\n"
     ]
    }
   ],
   "source": [
    "model.summary()"
   ]
  },
  {
   "cell_type": "code",
   "execution_count": 49,
   "metadata": {},
   "outputs": [
    {
     "name": "stdout",
     "output_type": "stream",
     "text": [
      "Train on 229847 samples, validate on 25539 samples\n",
      "Epoch 1/10\n",
      "229847/229847 [==============================] - 5s 22us/step - loss: 0.4370 - accuracy: 0.8012 - val_loss: 0.3902 - val_accuracy: 0.8296\n",
      "Epoch 2/10\n",
      "229847/229847 [==============================] - 5s 21us/step - loss: 0.3737 - accuracy: 0.8375 - val_loss: 0.3865 - val_accuracy: 0.8324\n",
      "Epoch 3/10\n",
      "229847/229847 [==============================] - 5s 21us/step - loss: 0.3408 - accuracy: 0.8519 - val_loss: 0.3934 - val_accuracy: 0.8319\n",
      "Epoch 4/10\n",
      "229847/229847 [==============================] - 5s 21us/step - loss: 0.3000 - accuracy: 0.8708 - val_loss: 0.4010 - val_accuracy: 0.8277\n",
      "Epoch 5/10\n",
      "229847/229847 [==============================] - 5s 21us/step - loss: 0.2585 - accuracy: 0.8890 - val_loss: 0.4427 - val_accuracy: 0.8259\n",
      "Epoch 6/10\n",
      "229847/229847 [==============================] - 5s 21us/step - loss: 0.2213 - accuracy: 0.9058 - val_loss: 0.4869 - val_accuracy: 0.8222\n",
      "Epoch 7/10\n",
      "229847/229847 [==============================] - 5s 21us/step - loss: 0.1922 - accuracy: 0.9193 - val_loss: 0.5491 - val_accuracy: 0.8204\n",
      "Epoch 8/10\n",
      "229847/229847 [==============================] - 5s 21us/step - loss: 0.1721 - accuracy: 0.9285 - val_loss: 0.5605 - val_accuracy: 0.8215\n",
      "Epoch 9/10\n",
      "229847/229847 [==============================] - 5s 21us/step - loss: 0.1564 - accuracy: 0.9348 - val_loss: 0.6058 - val_accuracy: 0.8216\n",
      "Epoch 10/10\n",
      "229847/229847 [==============================] - 5s 21us/step - loss: 0.1422 - accuracy: 0.9411 - val_loss: 0.6148 - val_accuracy: 0.8207\n"
     ]
    }
   ],
   "source": [
    "hist = model.fit(x_train, y_train, batch_size=512, epochs=10, validation_split=0.1)"
   ]
  },
  {
   "cell_type": "code",
   "execution_count": 50,
   "metadata": {},
   "outputs": [
    {
     "name": "stdout",
     "output_type": "stream",
     "text": [
      "63847/63847 [==============================] - 3s 40us/step\n"
     ]
    },
    {
     "data": {
      "text/plain": [
       "0.8203674554824829"
      ]
     },
     "execution_count": 50,
     "metadata": {},
     "output_type": "execute_result"
    }
   ],
   "source": [
    "model.evaluate(x_test, y_test)[1]"
   ]
  },
  {
   "cell_type": "code",
   "execution_count": 51,
   "metadata": {},
   "outputs": [
    {
     "data": {
      "text/plain": [
       "<matplotlib.legend.Legend at 0x1cc2ac42ef0>"
      ]
     },
     "execution_count": 51,
     "metadata": {},
     "output_type": "execute_result"
    },
    {
     "data": {
      "image/png": "[encoded data removed]",
      "text/plain": [
       "<Figure size 432x288 with 1 Axes>"
      ]
     },
     "metadata": {
      "needs_background": "light"
     },
     "output_type": "display_data"
    }
   ],
   "source": [
    "plt.xlabel(\"Epoch\")\n",
    "plt.ylabel(\"Loss\")\n",
    "plt.plot(hist.history[\"loss\"], label='Train Loss')\n",
    "plt.plot(hist.history[\"val_loss\"], label='Validation Loss')\n",
    "plt.legend()"
   ]
  },
  {
   "cell_type": "code",
   "execution_count": 52,
   "metadata": {},
   "outputs": [
    {
     "data": {
      "text/plain": [
       "<matplotlib.legend.Legend at 0x1cc2ac8b400>"
      ]
     },
     "execution_count": 52,
     "metadata": {},
     "output_type": "execute_result"
    },
    {
     "data": {
      "image/png": "[encoded data removed]",
      "text/plain": [
       "<Figure size 432x288 with 1 Axes>"
      ]
     },
     "metadata": {
      "needs_background": "light"
     },
     "output_type": "display_data"
    }
   ],
   "source": [
    "plt.xlabel(\"Epoch\")\n",
    "plt.ylabel(\"Accuracy\")\n",
    "plt.plot(hist.history[\"accuracy\"], label='Train Accuracy')\n",
    "plt.plot(hist.history[\"val_accuracy\"], label='Validation Accuracy')\n",
    "plt.legend()"
   ]
  }
 ],
 "metadata": {
  "kernelspec": {
   "display_name": "Python 3",
   "language": "python",
   "name": "python3"
  },
  "language_info": {
   "codemirror_mode": {
    "name": "ipython",
    "version": 3
   },
   "file_extension": ".py",
   "mimetype": "text/x-python",
   "name": "python",
   "nbconvert_exporter": "python",
   "pygments_lexer": "ipython3",
   "version": "3.7.3"
  }
 },
 "nbformat": 4,
 "nbformat_minor": 4
}

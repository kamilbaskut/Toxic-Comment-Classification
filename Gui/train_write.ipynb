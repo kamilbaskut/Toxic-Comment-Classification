{
 "cells": [
  {
   "cell_type": "code",
   "execution_count": 13,
   "metadata": {},
   "outputs": [
    {
     "name": "stdout",
     "output_type": "stream",
     "text": [
      "[[0 0 0 ... 0 0 0]\n",
      " [0 0 0 ... 0 0 0]\n",
      " [0 0 0 ... 0 0 0]\n",
      " ...\n",
      " [0 0 0 ... 0 0 0]\n",
      " [0 0 0 ... 0 0 0]\n",
      " [0 0 0 ... 0 0 0]]\n"
     ]
    },
    {
     "name": "stderr",
     "output_type": "stream",
     "text": [
      "C:\\Users\\serda\\Anaconda3\\lib\\site-packages\\xgboost\\sklearn.py:888: UserWarning: The use of label encoder in XGBClassifier is deprecated and will be removed in a future release. To remove this warning, do the following: 1) Pass option use_label_encoder=False when constructing XGBClassifier object; and 2) Encode your labels (y) as integers starting with 0, i.e. 0, 1, 2, ..., [num_class - 1].\n",
      "  warnings.warn(label_encoder_deprecation_msg, UserWarning)\n"
     ]
    },
    {
     "name": "stdout",
     "output_type": "stream",
     "text": [
      "[14:46:54] WARNING: C:/Users/Administrator/workspace/xgboost-win64_release_1.3.0/src/learner.cc:1061: Starting in XGBoost 1.3.0, the default evaluation metric used with the objective 'binary:logistic' was changed from 'error' to 'logloss'. Explicitly set eval_metric if you'd like to restore the old behavior.\n",
      "score :  0.8289191348066471\n"
     ]
    }
   ],
   "source": [
    "import pandas as pd\n",
    "import numpy as np\n",
    "from sklearn.feature_extraction.text import CountVectorizer\n",
    "from nltk.corpus import stopwords\n",
    "import pickle\n",
    "from sklearn.model_selection import train_test_split\n",
    "import xgboost\n",
    "\n",
    "##read data\n",
    "data = pd.read_csv(r'Data\\preprocessed_data.csv')\n",
    "\n",
    "## split\n",
    "x_data = data[\"text\"][pd.isna(data[\"text\"])==False]\n",
    "y_data = data[\"target\"][pd.isna(data[\"text\"])== False]\n",
    "\n",
    "##bag of word\n",
    "vectorizer = CountVectorizer(max_features=1500, min_df=5, max_df=0.95, stop_words=stopwords.words('english'))\n",
    "X = vectorizer.fit_transform(x_data).toarray()\n",
    "print(X)\n",
    "## save vectorizer\n",
    "with open(\"Saved/countVectorizer.pkl\", 'wb') as fout:\n",
    "    pickle.dump((vectorizer), fout)\n",
    "\n",
    "##split for train and test\n",
    "x_train, x_test, y_train, y_test = train_test_split(X, y_data, test_size=0.2, random_state=32)\n",
    "\n",
    "## train\n",
    "model = xgboost.XGBClassifier(n_estimators=200 ,n_jobs=6,max_depth=20, tree_method='gpu_hist') #the best\n",
    "model.fit(x_train, y_train )\n",
    "\n",
    "## test\n",
    "print(\"score : \", model.score(x_test, y_test))\n",
    "\n",
    "model.save_model(\"Saved/xgboost_bestModel.json\")"
   ]
  },
  {
   "cell_type": "code",
   "execution_count": null,
   "metadata": {},
   "outputs": [],
   "source": []
  },
  {
   "cell_type": "code",
   "execution_count": null,
   "metadata": {},
   "outputs": [],
   "source": []
  }
 ],
 "metadata": {
  "kernelspec": {
   "display_name": "Python 3",
   "language": "python",
   "name": "python3"
  },
  "language_info": {
   "codemirror_mode": {
    "name": "ipython",
    "version": 3
   },
   "file_extension": ".py",
   "mimetype": "text/x-python",
   "name": "python",
   "nbconvert_exporter": "python",
   "pygments_lexer": "ipython3",
   "version": "3.7.3"
  }
 },
 "nbformat": 4,
 "nbformat_minor": 2
}
